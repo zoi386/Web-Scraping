{
 "cells": [
  {
   "cell_type": "markdown",
   "metadata": {},
   "source": [
    "# Web scraping with Beautiful Soup Python library"
   ]
  },
  {
   "cell_type": "markdown",
   "metadata": {},
   "source": [
    "Web scraping is a usual way of colecting data from web pages, that are not easily accesible in a form of CSV  files or API. There is wast number of redy to use tools or libraries for web scraping. Here I am going to exploit BeautifulSoup library for collecting data from web site."
   ]
  },
  {
   "cell_type": "markdown",
   "metadata": {},
   "source": [
    "In order to collect necessary data we need to write code that will send request to server that holds the web site. \n",
    "Data will be dowloaded in browser but instead to rendering them in, code will go through web site and extract data we specified. That is basical explanation how web scraping colect data from sites.\n",
    "Lets first import requests libray and send requests for specific site. In this case it is site about Teas."
   ]
  },
  {
   "cell_type": "code",
   "execution_count": 1,
   "metadata": {},
   "outputs": [
    {
     "name": "stdout",
     "output_type": "stream",
     "text": [
      "Page loaded succesifully\n"
     ]
    }
   ],
   "source": [
    "import requests\n",
    "page = requests.get('https://www.teaforte.com/teas/')\n",
    "if page.status_code == 200: print('Page loaded succesifully')"
   ]
  },
  {
   "cell_type": "markdown",
   "metadata": {},
   "source": [
    "After importing BeautifulSoup, soup object should be created that will contain HTML code.\n",
    "It is nicely formated using prettify method."
   ]
  },
  {
   "cell_type": "code",
   "execution_count": 2,
   "metadata": {},
   "outputs": [],
   "source": [
    "from bs4 import BeautifulSoup\n",
    "soup = BeautifulSoup(page.content, 'html.parser')"
   ]
  },
  {
   "cell_type": "code",
   "execution_count": 3,
   "metadata": {},
   "outputs": [],
   "source": [
    "#print(soup.prettify())"
   ]
  },
  {
   "cell_type": "code",
   "execution_count": 4,
   "metadata": {},
   "outputs": [],
   "source": [
    "#list(soup.children)"
   ]
  },
  {
   "cell_type": "markdown",
   "metadata": {},
   "source": [
    "HTML - HiperText Markup Language is language in which web pages are created. It gives browser basic instruction how web page should be displayed. It contains different tags but basic infrastructure always contains html, head and body tags. These tags can be divided based on hierarcy where are parent tags, children and siblings tags. "
   ]
  },
  {
   "cell_type": "code",
   "execution_count": 5,
   "metadata": {},
   "outputs": [
    {
     "data": {
      "text/plain": [
       "[bs4.element.Doctype,\n",
       " bs4.element.NavigableString,\n",
       " bs4.element.Tag,\n",
       " bs4.element.NavigableString]"
      ]
     },
     "execution_count": 5,
     "metadata": {},
     "output_type": "execute_result"
    }
   ],
   "source": [
    "[type(ithem) for ithem in list(soup.children)]"
   ]
  },
  {
   "cell_type": "markdown",
   "metadata": {},
   "source": [
    "As it can be seen all elements are list of BS objects. First contain information about the type of the document, second contain text contained in html document but most importalnt is tag elemet that contain other nested elements from which we can extract necessary data."
   ]
  },
  {
   "cell_type": "code",
   "execution_count": 6,
   "metadata": {},
   "outputs": [],
   "source": [
    "html = list(soup.children)[2]\n",
    "#html"
   ]
  },
  {
   "cell_type": "code",
   "execution_count": 7,
   "metadata": {},
   "outputs": [],
   "source": [
    "#list(html.children)"
   ]
  },
  {
   "cell_type": "code",
   "execution_count": 8,
   "metadata": {},
   "outputs": [],
   "source": [
    "body = list(html.children)[3]\n",
    "#body"
   ]
  },
  {
   "cell_type": "code",
   "execution_count": 9,
   "metadata": {},
   "outputs": [],
   "source": [
    "all_tea = soup.find('div', class_ = 'row filter-set')\n",
    "#all_tea"
   ]
  },
  {
   "cell_type": "code",
   "execution_count": 10,
   "metadata": {},
   "outputs": [],
   "source": [
    "product_card = all_tea.find_all('div', class_ = 'product-card--meta')"
   ]
  },
  {
   "cell_type": "code",
   "execution_count": 11,
   "metadata": {},
   "outputs": [
    {
     "name": "stdout",
     "output_type": "stream",
     "text": [
      "<div class=\"product-card--meta\">\n",
      " <div class=\"product-card--descriptor\">\n",
      "  <a href=\"/store/gourmet-tea/african-solstice/\">\n",
      "   Herbal Tea\n",
      "  </a>\n",
      " </div>\n",
      " <h2 class=\"product-card--name\">\n",
      "  <a href=\"/store/gourmet-tea/african-solstice/\">\n",
      "   African Solstice\n",
      "  </a>\n",
      " </h2>\n",
      " <div class=\"product-card--premise\">\n",
      "  <p>\n",
      "   <a href=\"/store/gourmet-tea/african-solstice/\">\n",
      "    Caffeine-free red tea layered with sweet berries and rose.\n",
      "   </a>\n",
      "  </p>\n",
      " </div>\n",
      " <div class=\"list-product-card--tags\">\n",
      "  <a href=\"/store/gourmet-tea/african-solstice/\">\n",
      "   Kosher Certified\n",
      "   <span>\n",
      "    |\n",
      "   </span>\n",
      "   USDA Organic\n",
      "  </a>\n",
      " </div>\n",
      " <div class=\"product-card--rating ratings\">\n",
      "  <span class=\"stars-count\">\n",
      "   <span class=\"stars-count\">\n",
      "    <i class=\"star\">\n",
      "     <svg class=\"icon icon-star\">\n",
      "      <use xlink:href=\"/bundles/teafortecms/micstura/images/svg/symbol-defs.svg#icon-star\">\n",
      "      </use>\n",
      "     </svg>\n",
      "    </i>\n",
      "    <i class=\"star\">\n",
      "     <svg class=\"icon icon-star\">\n",
      "      <use xlink:href=\"/bundles/teafortecms/micstura/images/svg/symbol-defs.svg#icon-star\">\n",
      "      </use>\n",
      "     </svg>\n",
      "    </i>\n",
      "    <i class=\"star\">\n",
      "     <svg class=\"icon icon-star\">\n",
      "      <use xlink:href=\"/bundles/teafortecms/micstura/images/svg/symbol-defs.svg#icon-star\">\n",
      "      </use>\n",
      "     </svg>\n",
      "    </i>\n",
      "    <i class=\"star\">\n",
      "     <svg class=\"icon icon-star\">\n",
      "      <use xlink:href=\"/bundles/teafortecms/micstura/images/svg/symbol-defs.svg#icon-star\">\n",
      "      </use>\n",
      "     </svg>\n",
      "    </i>\n",
      "    <i class=\"star\">\n",
      "     <svg class=\"icon icon-star\">\n",
      "      <use xlink:href=\"/bundles/teafortecms/micstura/images/svg/symbol-defs.svg#icon-star\">\n",
      "      </use>\n",
      "     </svg>\n",
      "    </i>\n",
      "   </span>\n",
      "  </span>\n",
      "  <span class=\"review-count\">\n",
      "   (651)\n",
      "  </span>\n",
      " </div>\n",
      "</div>\n",
      "\n"
     ]
    }
   ],
   "source": [
    "first_tea = product_card[0]\n",
    "print(first_tea.prettify())"
   ]
  },
  {
   "cell_type": "code",
   "execution_count": 12,
   "metadata": {},
   "outputs": [
    {
     "data": {
      "text/plain": [
       "'\\nAfrican Solstice\\n'"
      ]
     },
     "execution_count": 12,
     "metadata": {},
     "output_type": "execute_result"
    }
   ],
   "source": [
    "name = first_tea.find(class_ = 'product-card--name').get_text()\n",
    "name"
   ]
  },
  {
   "cell_type": "code",
   "execution_count": 13,
   "metadata": {},
   "outputs": [
    {
     "data": {
      "text/plain": [
       "'\\nCaffeine-free red tea layered with sweet berries and rose.\\n'"
      ]
     },
     "execution_count": 13,
     "metadata": {},
     "output_type": "execute_result"
    }
   ],
   "source": [
    "description = first_tea.find('div', class_ = 'product-card--premise').get_text()\n",
    "description"
   ]
  },
  {
   "cell_type": "code",
   "execution_count": 14,
   "metadata": {},
   "outputs": [
    {
     "data": {
      "text/plain": [
       "'\\n                                    (651)\\n                                '"
      ]
     },
     "execution_count": 14,
     "metadata": {},
     "output_type": "execute_result"
    }
   ],
   "source": [
    "review_count = first_tea.find('span', class_ = 'review-count').get_text()\n",
    "review_count"
   ]
  },
  {
   "cell_type": "code",
   "execution_count": 15,
   "metadata": {},
   "outputs": [
    {
     "data": {
      "text/plain": [
       "['\\n                                    (651)\\n                                ',\n",
       " '\\n                                    (170)\\n                                ',\n",
       " '\\n                                    (116)\\n                                ',\n",
       " '\\n                                    (49)\\n                                ',\n",
       " '\\n                                    (92)\\n                                ',\n",
       " '\\n                                    (260)\\n                                ',\n",
       " '\\n                                    (104)\\n                                ',\n",
       " '\\n                                    (296)\\n                                ',\n",
       " '\\n                                    (315)\\n                                ',\n",
       " '\\n                                    (201)\\n                                ',\n",
       " '\\n                                    (41)\\n                                ',\n",
       " '\\n                                    (479)\\n                                ',\n",
       " '\\n                                    (3)\\n                                ',\n",
       " '\\n                                    (316)\\n                                ',\n",
       " '\\n                                    (107)\\n                                ',\n",
       " '\\n                                    (191)\\n                                ',\n",
       " '\\n                                    (66)\\n                                ',\n",
       " '\\n                                    (131)\\n                                ',\n",
       " '\\n                                    (243)\\n                                ',\n",
       " '\\n                                    (51)\\n                                ',\n",
       " '\\n                                    (139)\\n                                ',\n",
       " '\\n                                    (64)\\n                                ',\n",
       " '\\n                                    (147)\\n                                ',\n",
       " '\\n                                    (10)\\n                                ',\n",
       " '\\n                                    (886)\\n                                ',\n",
       " '\\n                                    (1134)\\n                                ',\n",
       " '\\n                                    (173)\\n                                ',\n",
       " '\\n                                    (28)\\n                                ',\n",
       " '\\n                                    (49)\\n                                ',\n",
       " '\\n                                    (238)\\n                                ',\n",
       " '\\n                                    (29)\\n                                ',\n",
       " '\\n                                    (29)\\n                                ',\n",
       " '\\n                                    (328)\\n                                ',\n",
       " '\\n                                    (163)\\n                                ',\n",
       " '\\n                                    (49)\\n                                ',\n",
       " '\\n                                    (68)\\n                                ',\n",
       " '\\n                                    (33)\\n                                ',\n",
       " '\\n                                    (126)\\n                                ',\n",
       " '\\n                                    (86)\\n                                ',\n",
       " '\\n                                    (71)\\n                                ',\n",
       " '\\n                                    (86)\\n                                ',\n",
       " '\\n                                    (9)\\n                                ',\n",
       " '\\n                                    (649)\\n                                ',\n",
       " '\\n                                    (38)\\n                                ',\n",
       " '\\n                                    (84)\\n                                ',\n",
       " '\\n                                    (151)\\n                                ',\n",
       " '\\n                                    (2)\\n                                ',\n",
       " '\\n                                    (65)\\n                                ',\n",
       " '\\n                                    (13)\\n                                ',\n",
       " '\\n                                    (83)\\n                                ',\n",
       " '\\n                                    (163)\\n                                ',\n",
       " '\\n                                    (133)\\n                                ',\n",
       " '\\n                                    (98)\\n                                ',\n",
       " '\\n                                    (334)\\n                                ',\n",
       " '\\n                                    (2)\\n                                ',\n",
       " '\\n                                    (52)\\n                                ',\n",
       " '\\n                                    (135)\\n                                ',\n",
       " '\\n                                    (42)\\n                                ',\n",
       " '\\n                                    (151)\\n                                ',\n",
       " '\\n                                    (8)\\n                                ',\n",
       " '\\n                                    (12)\\n                                ',\n",
       " '\\n                                    (26)\\n                                ',\n",
       " '\\n                                    (123)\\n                                ',\n",
       " '\\n                                    (251)\\n                                ',\n",
       " '\\n                                    (35)\\n                                ',\n",
       " '\\n                                    (50)\\n                                ',\n",
       " '\\n                                    (132)\\n                                ',\n",
       " '\\n                                    (6)\\n                                ',\n",
       " '\\n                                    (64)\\n                                ',\n",
       " '\\n                                    (8)\\n                                ',\n",
       " '\\n                                    (62)\\n                                ',\n",
       " '\\n                                    (236)\\n                                ',\n",
       " '\\n                                    (70)\\n                                ',\n",
       " '\\n                                    (6)\\n                                ',\n",
       " '\\n                                    (105)\\n                                ',\n",
       " '\\n                                    (11)\\n                                ',\n",
       " '\\n                                    (47)\\n                                ',\n",
       " '\\n                                    (164)\\n                                ',\n",
       " '\\n                                    (717)\\n                                ',\n",
       " '\\n                                    (106)\\n                                ',\n",
       " '\\n                                    (13)\\n                                ',\n",
       " '\\n                                    (244)\\n                                ']"
      ]
     },
     "execution_count": 15,
     "metadata": {},
     "output_type": "execute_result"
    }
   ],
   "source": [
    "tea_r = all_tea.select('.product-card--meta .review-count')\n",
    "tea_review = [tr.get_text() for tr in tea_r ]\n",
    "tea_review"
   ]
  },
  {
   "cell_type": "code",
   "execution_count": 16,
   "metadata": {
    "scrolled": true
   },
   "outputs": [
    {
     "data": {
      "text/plain": [
       "['African Solstice',\n",
       " 'Apricot Amaretto',\n",
       " 'Belgian Mint Tea',\n",
       " 'Berry Basket',\n",
       " 'Black Cherry',\n",
       " 'Black Currant Tea',\n",
       " 'Blood Orange Tea',\n",
       " 'Blueberry Merlot Tea',\n",
       " 'Bombay Chai Tea',\n",
       " 'Caramel Nougat',\n",
       " 'Chai Matcha',\n",
       " 'Chamomile Citron Tea',\n",
       " 'Cherry Amour',\n",
       " 'Cherry Blossom Hanami',\n",
       " 'Cherry Cosmo Tea',\n",
       " 'Cherry Marzipan',\n",
       " 'Chocolate Matcha',\n",
       " 'Chocolate Rose Tea',\n",
       " 'Citrus Mint',\n",
       " 'Coconut Matcha',\n",
       " 'Cucumber Mint',\n",
       " 'Darjeeling Quince Tea',\n",
       " 'Decaf Breakfast Tea',\n",
       " 'Defense',\n",
       " 'Earl Grey Tea',\n",
       " 'English Breakfast Tea',\n",
       " 'Estate Darjeeling',\n",
       " 'Formosa Oolong',\n",
       " 'Ginger Guru Chai',\n",
       " 'Ginger Lemongrass',\n",
       " 'Ginger Matcha',\n",
       " 'Ginger Snap',\n",
       " 'Green Mango Peach',\n",
       " 'Harvest Apple Spice',\n",
       " 'Hibiscus Blossom',\n",
       " 'Iced Blood Orange',\n",
       " 'Iced Blueberry Merlot',\n",
       " 'Iced Ceylon Gold',\n",
       " 'Iced Ginger Pear',\n",
       " 'Iced Mango Peach',\n",
       " 'Iced Raspberry Nectar',\n",
       " 'Invigorate',\n",
       " 'Jasmine Green Tea',\n",
       " 'Kiwi Lime Ginger Tea',\n",
       " 'Lemon Lavender Tea',\n",
       " 'Lemon Sorbetti Tea',\n",
       " 'Lemon Vervain',\n",
       " 'Mango Mélange',\n",
       " 'Maté Mantra Chai',\n",
       " 'Mojito Marmalade Tea',\n",
       " 'Moroccan Mint Tea',\n",
       " 'Mountain Oolong Tea',\n",
       " 'Orange Jasmine Tea',\n",
       " 'Orchid Vanilla Tea',\n",
       " 'Passion Fruit Papaya',\n",
       " 'Peach Blossom',\n",
       " 'Peach Brûlée',\n",
       " 'Pear Cobbler',\n",
       " 'Pure Matcha',\n",
       " 'Purify',\n",
       " 'Radiance',\n",
       " 'Raspberry Coconut',\n",
       " 'Raspberry Ganache',\n",
       " 'Raspberry Nectar',\n",
       " 'Rooibos Raja Chai',\n",
       " 'Rum Raisin Biscotti',\n",
       " 'Sencha Tea',\n",
       " 'Serenity',\n",
       " 'Spiced Ginger Plum',\n",
       " 'Strawberry Apple',\n",
       " 'Strawberry Hibiscus',\n",
       " 'Sweet Orange Spice Tea',\n",
       " 'Turmeric Tantra Chai',\n",
       " 'Vanilla Peach',\n",
       " 'Vanilla Pear Tea',\n",
       " 'Vanilla Rose',\n",
       " 'Vanilla Veda Chai',\n",
       " 'White Ambrosia',\n",
       " 'White Ginger Pear',\n",
       " 'Wild Berry Hibiscus Tea',\n",
       " 'Wildflower Honey Citrus',\n",
       " 'Winter Chai Tea']"
      ]
     },
     "execution_count": 16,
     "metadata": {},
     "output_type": "execute_result"
    }
   ],
   "source": [
    "tea_s = all_tea.select('.product-card--meta .product-card--name')\n",
    "tea_names = [tn.get_text().strip('\\n') for tn in tea_s if tea_review != '']\n",
    "tea_names\n"
   ]
  },
  {
   "cell_type": "code",
   "execution_count": 17,
   "metadata": {},
   "outputs": [
    {
     "data": {
      "text/plain": [
       "82"
      ]
     },
     "execution_count": 17,
     "metadata": {},
     "output_type": "execute_result"
    }
   ],
   "source": [
    "len(tea_names)"
   ]
  },
  {
   "cell_type": "code",
   "execution_count": 18,
   "metadata": {},
   "outputs": [
    {
     "data": {
      "text/plain": [
       "['Caffeine-free red tea layered with sweet berries and rose.',\n",
       " 'Juicy apricot and almond pair for a refreshing infusion.',\n",
       " 'Rich dark chocolate and cool peppermint.',\n",
       " 'A basket of black tea, berries and cornflower petals.',\n",
       " 'Black tea, vanilla, licorice, and strawberry',\n",
       " 'Lush and fruity steep with blackberry leaves.',\n",
       " 'A bold ruby blend.',\n",
       " 'Award-winning herbal blend',\n",
       " 'A traditional blend of warming spices',\n",
       " 'A confectionary cup',\n",
       " 'Spicy chai, energizing matcha',\n",
       " 'Soothing caffeine-free chamomile.',\n",
       " 'A fruity blend.',\n",
       " 'Our impression of the cherry blossom',\n",
       " 'The taste of cherry and berries',\n",
       " 'Cherries and almond',\n",
       " 'Rich yet energizing',\n",
       " 'Black tea, chocolate and rose petals.',\n",
       " 'Peppermint and citrus herbal tea',\n",
       " 'Rich and creamy coconut',\n",
       " 'Cool as a cucumber',\n",
       " 'Citrus, quince, and hibiscus.',\n",
       " 'Rich, raisiny, deep Ceylon tea.',\n",
       " 'Echinacea, ginger and elderberry.',\n",
       " 'Robust Assam and bergamot.',\n",
       " 'A dark and rich superb Assam black tea.',\n",
       " 'Single-origin black tea',\n",
       " 'A fragrant tea with a hint of roasted nut.',\n",
       " 'Sweet and spicy',\n",
       " 'Citrus, cool spearmint and licorice.',\n",
       " 'Emerald-green matcha and warming ginger.',\n",
       " 'A bold, black tea with orange, baking spices and vanilla.',\n",
       " 'Peach sharpened by peppermint and ginger.',\n",
       " 'Apples, berries, and warm baking spices.',\n",
       " 'Hibiscus, apple, orange and rosehip.',\n",
       " 'Orange, grapefruit, and bergamot.',\n",
       " 'Sweet blueberries, hibiscus and sage.',\n",
       " 'Black iced tea at its best',\n",
       " 'Ginger, sweet blackberry and lemon balm.',\n",
       " 'Mango, peach, and cool peppermint',\n",
       " 'Hibiscus, apple, and orange.',\n",
       " 'Ginger, ginseng, beetroot and matcha.',\n",
       " 'Rare, green tea scented with jasmine flowers.',\n",
       " 'Zesty kiwi, citrus and ginger',\n",
       " 'Garden herbs, flowers & sweet apple',\n",
       " 'Citrus and lemony-herbed tea',\n",
       " 'Herbal lemon and mint tea',\n",
       " 'Mango, ginger, pineapple and white hibiscus.',\n",
       " 'Energizing yet rooted',\n",
       " 'Lush citrus with spearmint and rooibos.',\n",
       " 'Hand-rolled gunpowder tea with mint.',\n",
       " 'A deep, black with taste of peach.',\n",
       " 'Sunshiny citrus and night-blooming jasmine.',\n",
       " 'Black tea, vanilla and coconut',\n",
       " 'Tropical mango and sunflower petals',\n",
       " 'Peach, apple and marigold flowers.',\n",
       " 'Black tea, marigold flowers and mango.',\n",
       " 'White tea, pear and the taste of lychee',\n",
       " 'The power of green tea',\n",
       " 'Citrus fruit, yerba mate and dandelion root.',\n",
       " 'Citrus, berries and rosemary',\n",
       " 'Extraordinarily smooth, floral and sweet',\n",
       " 'Sweet chocolate and juicy raspberry.',\n",
       " 'A hibiscus and citrusy ruby-hued steep.',\n",
       " 'Red chai with apple',\n",
       " 'Sun-dried raisins, rum, and chamomile',\n",
       " 'Early spring green tea.',\n",
       " 'Mint, lavender, lemony nettle and juniper berry.',\n",
       " 'Cinnamon, sweet plum and fig',\n",
       " 'Ripe berries and lemon herbal tea',\n",
       " 'A bright and fruity tea, with the calming touch of rose.',\n",
       " 'A warming, cinnamon classic',\n",
       " 'Indian spice and licorice',\n",
       " 'The flavor of peach and tropical coconut.',\n",
       " 'Vanilla orchid melds with fresh baked pear or a relaxing cup.',\n",
       " 'Vanilla, rose flower, and light spice',\n",
       " 'Warming vanilla and spice',\n",
       " 'White tea with the taste of vanilla and coconut',\n",
       " 'White tea leaves, pear and spicy ginger',\n",
       " 'A blend of hibiscus and rosehips',\n",
       " 'Honey, orange, grapefruit, and spring flowers',\n",
       " 'Rooibos, cardamom & vanilla herbal tea']"
      ]
     },
     "execution_count": 18,
     "metadata": {},
     "output_type": "execute_result"
    }
   ],
   "source": [
    "tea_sd = all_tea.select('.product-card--meta .product-card--premise')\n",
    "tea_description = [td.get_text().strip('\\n') for td in tea_sd]\n",
    "tea_description"
   ]
  },
  {
   "cell_type": "code",
   "execution_count": 19,
   "metadata": {},
   "outputs": [
    {
     "data": {
      "text/plain": [
       "[651,\n",
       " 170,\n",
       " 116,\n",
       " 49,\n",
       " 92,\n",
       " 260,\n",
       " 104,\n",
       " 296,\n",
       " 315,\n",
       " 201,\n",
       " 41,\n",
       " 479,\n",
       " 3,\n",
       " 316,\n",
       " 107,\n",
       " 191,\n",
       " 66,\n",
       " 131,\n",
       " 243,\n",
       " 51,\n",
       " 139,\n",
       " 64,\n",
       " 147,\n",
       " 10,\n",
       " 886,\n",
       " 1134,\n",
       " 173,\n",
       " 28,\n",
       " 49,\n",
       " 238,\n",
       " 29,\n",
       " 29,\n",
       " 328,\n",
       " 163,\n",
       " 49,\n",
       " 68,\n",
       " 33,\n",
       " 126,\n",
       " 86,\n",
       " 71,\n",
       " 86,\n",
       " 9,\n",
       " 649,\n",
       " 38,\n",
       " 84,\n",
       " 151,\n",
       " 2,\n",
       " 65,\n",
       " 13,\n",
       " 83,\n",
       " 163,\n",
       " 133,\n",
       " 98,\n",
       " 334,\n",
       " 2,\n",
       " 52,\n",
       " 135,\n",
       " 42,\n",
       " 151,\n",
       " 8,\n",
       " 12,\n",
       " 26,\n",
       " 123,\n",
       " 251,\n",
       " 35,\n",
       " 50,\n",
       " 132,\n",
       " 6,\n",
       " 64,\n",
       " 8,\n",
       " 62,\n",
       " 236,\n",
       " 70,\n",
       " 6,\n",
       " 105,\n",
       " 11,\n",
       " 47,\n",
       " 164,\n",
       " 717,\n",
       " 106,\n",
       " 13,\n",
       " 244]"
      ]
     },
     "execution_count": 19,
     "metadata": {},
     "output_type": "execute_result"
    }
   ],
   "source": [
    "tea_r = all_tea.select('.product-card--meta .review-count')\n",
    "tea_review = [tr.get_text() for tr in tea_r ]\n",
    "tea_review = [tr.strip(' ()\\n') for tr in tea_review]\n",
    "tea_review = [int(tr) for tr in tea_review]\n",
    "tea_review"
   ]
  },
  {
   "cell_type": "code",
   "execution_count": 20,
   "metadata": {},
   "outputs": [
    {
     "name": "stdout",
     "output_type": "stream",
     "text": [
      "82\n",
      "82\n",
      "82\n"
     ]
    }
   ],
   "source": [
    "print(len(tea_names))\n",
    "print(len(tea_description))\n",
    "print(len(tea_review))"
   ]
  },
  {
   "cell_type": "code",
   "execution_count": 21,
   "metadata": {},
   "outputs": [],
   "source": [
    "import pandas as pd\n",
    "import numpy as np"
   ]
  },
  {
   "cell_type": "code",
   "execution_count": 22,
   "metadata": {
    "scrolled": true
   },
   "outputs": [
    {
     "data": {
      "text/html": [
       "<div>\n",
       "<style scoped>\n",
       "    .dataframe tbody tr th:only-of-type {\n",
       "        vertical-align: middle;\n",
       "    }\n",
       "\n",
       "    .dataframe tbody tr th {\n",
       "        vertical-align: top;\n",
       "    }\n",
       "\n",
       "    .dataframe thead th {\n",
       "        text-align: right;\n",
       "    }\n",
       "</style>\n",
       "<table border=\"1\" class=\"dataframe\">\n",
       "  <thead>\n",
       "    <tr style=\"text-align: right;\">\n",
       "      <th></th>\n",
       "      <th>Tea Name</th>\n",
       "      <th>Tea Description</th>\n",
       "      <th>Tea Review</th>\n",
       "    </tr>\n",
       "  </thead>\n",
       "  <tbody>\n",
       "    <tr>\n",
       "      <th>0</th>\n",
       "      <td>African Solstice</td>\n",
       "      <td>Caffeine-free red tea layered with sweet berri...</td>\n",
       "      <td>651</td>\n",
       "    </tr>\n",
       "    <tr>\n",
       "      <th>1</th>\n",
       "      <td>Apricot Amaretto</td>\n",
       "      <td>Juicy apricot and almond pair for a refreshing...</td>\n",
       "      <td>170</td>\n",
       "    </tr>\n",
       "    <tr>\n",
       "      <th>2</th>\n",
       "      <td>Belgian Mint Tea</td>\n",
       "      <td>Rich dark chocolate and cool peppermint.</td>\n",
       "      <td>116</td>\n",
       "    </tr>\n",
       "    <tr>\n",
       "      <th>3</th>\n",
       "      <td>Berry Basket</td>\n",
       "      <td>A basket of black tea, berries and cornflower ...</td>\n",
       "      <td>49</td>\n",
       "    </tr>\n",
       "    <tr>\n",
       "      <th>4</th>\n",
       "      <td>Black Cherry</td>\n",
       "      <td>Black tea, vanilla, licorice, and strawberry</td>\n",
       "      <td>92</td>\n",
       "    </tr>\n",
       "  </tbody>\n",
       "</table>\n",
       "</div>"
      ],
      "text/plain": [
       "           Tea Name                                    Tea Description  \\\n",
       "0  African Solstice  Caffeine-free red tea layered with sweet berri...   \n",
       "1  Apricot Amaretto  Juicy apricot and almond pair for a refreshing...   \n",
       "2  Belgian Mint Tea           Rich dark chocolate and cool peppermint.   \n",
       "3      Berry Basket  A basket of black tea, berries and cornflower ...   \n",
       "4      Black Cherry       Black tea, vanilla, licorice, and strawberry   \n",
       "\n",
       "   Tea Review  \n",
       "0         651  \n",
       "1         170  \n",
       "2         116  \n",
       "3          49  \n",
       "4          92  "
      ]
     },
     "execution_count": 22,
     "metadata": {},
     "output_type": "execute_result"
    }
   ],
   "source": [
    "tea_ds = pd.DataFrame({'Tea Name' : tea_names,\n",
    "                       'Tea Description': tea_description,\n",
    "                    'Tea Review' : tea_review})\n",
    "tea_ds.head()"
   ]
  },
  {
   "cell_type": "code",
   "execution_count": 23,
   "metadata": {},
   "outputs": [
    {
     "data": {
      "text/plain": [
       "numpy.int64"
      ]
     },
     "execution_count": 23,
     "metadata": {},
     "output_type": "execute_result"
    }
   ],
   "source": [
    "type(tea_ds['Tea Review'][0])"
   ]
  },
  {
   "cell_type": "code",
   "execution_count": 24,
   "metadata": {},
   "outputs": [
    {
     "data": {
      "text/plain": [
       "651"
      ]
     },
     "execution_count": 24,
     "metadata": {},
     "output_type": "execute_result"
    }
   ],
   "source": [
    "tea_ds['Tea Review'][0]"
   ]
  },
  {
   "cell_type": "code",
   "execution_count": null,
   "metadata": {},
   "outputs": [],
   "source": []
  }
 ],
 "metadata": {
  "kernelspec": {
   "display_name": "Python 3",
   "language": "python",
   "name": "python3"
  },
  "language_info": {
   "codemirror_mode": {
    "name": "ipython",
    "version": 3
   },
   "file_extension": ".py",
   "mimetype": "text/x-python",
   "name": "python",
   "nbconvert_exporter": "python",
   "pygments_lexer": "ipython3",
   "version": "3.7.3"
  }
 },
 "nbformat": 4,
 "nbformat_minor": 2
}
